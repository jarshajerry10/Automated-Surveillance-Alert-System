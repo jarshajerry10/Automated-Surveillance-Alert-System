{
 "cells": [
  {
   "attachments": {},
   "cell_type": "markdown",
   "metadata": {},
   "source": [
    "## **Email Alert**"
   ]
  },
  {
   "attachments": {},
   "cell_type": "markdown",
   "metadata": {},
   "source": [
    "### **Using live video**"
   ]
  },
  {
   "cell_type": "code",
   "execution_count": 2,
   "metadata": {},
   "outputs": [],
   "source": [
    "import cv2\n",
    "\n",
    "# Open the default camera\n",
    "cap = cv2.VideoCapture(0)\n",
    "\n",
    "# Define the codec and create VideoWriter object\n",
    "fourcc = cv2.VideoWriter_fourcc(*'X264')\n",
    "out = cv2.VideoWriter(r\"C:\\Users\\Lenovo\\OneDrive\\Desktop\\Final Code\\Live_Video\\LIVE.mp4\", fourcc, 20.0, (640, 480))\n",
    "\n",
    "while cap.isOpened():\n",
    "    # Capture frame-by-frame\n",
    "    ret, frame = cap.read()\n",
    "    if ret:\n",
    "        # Display the resulting frame\n",
    "        cv2.imshow('frame', frame)\n",
    "        \n",
    "        # Write the frame to the output file\n",
    "        out.write(frame)\n",
    "        \n",
    "        # Press 'q' to exit\n",
    "        if cv2.waitKey(1) & 0xFF == ord('q'):\n",
    "            break\n",
    "    else:\n",
    "        break\n",
    "\n",
    "# Release everything when done\n",
    "cap.release()\n",
    "out.release()\n",
    "cv2.destroyAllWindows()\n"
   ]
  },
  {
   "cell_type": "code",
   "execution_count": 3,
   "metadata": {},
   "outputs": [],
   "source": [
    "from playsound import playsound\n",
    "       "
   ]
  },
  {
   "cell_type": "code",
   "execution_count": 12,
   "metadata": {},
   "outputs": [],
   "source": [
    "from tensorflow.keras.models import load_model\n",
    "\n",
    "# Load the saved model from disk\n",
    "LRCN_model = load_model(\"LRCN_Model.h5\")"
   ]
  },
  {
   "cell_type": "code",
   "execution_count": 13,
   "metadata": {},
   "outputs": [],
   "source": [
    "# Specify the height and width to which each video frame will be resized in our dataset.\n",
    "IMAGE_HEIGHT , IMAGE_WIDTH = 64, 64\n",
    "\n",
    "# Specify the number of frames of a video that will be fed to the model as one sequence.\n",
    "SEQUENCE_LENGTH = 20\n",
    "\n",
    "# Specify the list containing the names of the classes used for training. Feel free to choose any set of classes.\n",
    "CLASSES_LIST = [\"NonViolence\",\"Violence\",\"Fire\"]\n"
   ]
  },
  {
   "cell_type": "code",
   "execution_count": 14,
   "metadata": {},
   "outputs": [],
   "source": [
    "input_video_file_path=r\"C:\\Users\\Lenovo\\OneDrive\\Desktop\\Final Code\\Live_Video\\LIVE.mp4\""
   ]
  },
  {
   "cell_type": "code",
   "execution_count": 15,
   "metadata": {},
   "outputs": [],
   "source": [
    "sound_file_path = r\"C:\\Users\\Lenovo\\OneDrive\\Desktop\\Final Code\\emergency-alarm-with-reverb-29431.mp3\""
   ]
  },
  {
   "cell_type": "code",
   "execution_count": 16,
   "metadata": {},
   "outputs": [],
   "source": [
    "import os\n",
    "import smtplib\n",
    "from email.mime.multipart import MIMEMultipart\n",
    "from email.mime.text import MIMEText\n",
    "from email.mime.base import MIMEBase\n",
    "from email import encoders\n",
    "import cv2\n",
    "import numpy as np\n",
    "def predict_single_action(video_file_path, SEQUENCE_LENGTH):\n",
    "    '''\n",
    "    This function will perform single action recognition prediction on a video using the LRCN model.\n",
    "    Args:\n",
    "    video_file_path:  The path of the video stored in the disk on which the action recognition is to be performed.\n",
    "    SEQUENCE_LENGTH:  The fixed number of frames of a video that can be passed to the model as one sequence.\n",
    "    '''\n",
    "\n",
    "    # Initialize the VideoCapture object to read from the video file.\n",
    "    video_reader = cv2.VideoCapture(video_file_path)\n",
    "\n",
    "    # Get the width and height of the video.\n",
    "    original_video_width = int(video_reader.get(cv2.CAP_PROP_FRAME_WIDTH))\n",
    "    original_video_height = int(video_reader.get(cv2.CAP_PROP_FRAME_HEIGHT))\n",
    "\n",
    "    # Declare a list to store video frames we will extract.\n",
    "    frames_list = []\n",
    "    \n",
    "    # Initialize a variable to store the predicted action being performed in the video.\n",
    "    predicted_class_name = ''\n",
    "\n",
    "    # Get the number of frames in the video.\n",
    "    video_frames_count = int(video_reader.get(cv2.CAP_PROP_FRAME_COUNT))\n",
    "\n",
    "    # Calculate the interval after which frames will be added to the list.\n",
    "    skip_frames_window = max(int(video_frames_count/SEQUENCE_LENGTH),1)\n",
    "\n",
    "    # Iterating the number of times equal to the fixed length of sequence.\n",
    "    for frame_counter in range(SEQUENCE_LENGTH):\n",
    "\n",
    "        # Set the current frame position of the video.\n",
    "        video_reader.set(cv2.CAP_PROP_POS_FRAMES, frame_counter * skip_frames_window)\n",
    "\n",
    "        # Read a frame.\n",
    "        success, frame = video_reader.read() \n",
    "\n",
    "        # Check if frame is not read properly then break the loop.\n",
    "        if not success:\n",
    "            break\n",
    "\n",
    "        # Resize the Frame to fixed Dimensions.\n",
    "        resized_frame = cv2.resize(frame, (IMAGE_HEIGHT, IMAGE_WIDTH))\n",
    "        \n",
    "        # Normalize the resized frame by dividing it with 255 so that each pixel value then lies between 0 and 1.\n",
    "        normalized_frame = resized_frame / 255\n",
    "        \n",
    "        # Appending the pre-processed frame into the frames list\n",
    "        frames_list.append(normalized_frame)\n",
    "\n",
    "    # Passing the  pre-processed frames to the model and get the predicted probabilities.\n",
    "    predicted_labels_probabilities = LRCN_model.predict(np.expand_dims(frames_list, axis = 0))[0]\n",
    "\n",
    "    # Get the index of class with highest probability.\n",
    "    predicted_label = np.argmax(predicted_labels_probabilities)\n",
    "\n",
    "    # Get the class name using the retrieved index.\n",
    "    predicted_class_name = CLASSES_LIST[predicted_label]\n",
    "#     confidence = format(predicted_labels_probabilities[predicted_label])\n",
    "#     confidence_percent = round(confidence * 100, 2)\n",
    "    confidence = predicted_labels_probabilities[predicted_label]\n",
    "    confidence_float = float(confidence)\n",
    "    confidence_percent = round(confidence_float * 100, 2)\n",
    "    \n",
    "    # If the predicted class is Violence, send an email with the video attachment.\n",
    "    if predicted_class_name == 'Violence':\n",
    "        print(\"Sending email...\")\n",
    "\n",
    "        # email credentials\n",
    "        EMAIL_ADDRESS = 'finalyrproject23@gmail.com'\n",
    "        EMAIL_PASSWORD = 'gubjkajaztkdmtty'\n",
    "        RECEIVER_ADDRESS = 'ridha.isha20@gmail.com,maiseridha@gmail.com,'\n",
    "\n",
    "        # message details\n",
    "        subject = 'Warning: Violence detected in video'\n",
    "        body = f'A video containing violent content has been detected. Confidence: {confidence_percent}%'\n",
    "\n",
    "        # create message\n",
    "        message = MIMEMultipart()\n",
    "        message['From'] = EMAIL_ADDRESS\n",
    "        message['To'] = RECEIVER_ADDRESS\n",
    "        message['Subject'] = subject\n",
    "\n",
    "        # add message body\n",
    "        message.attach(MIMEText(body, 'plain'))\n",
    "\n",
    "        # attach video file\n",
    "        attachment = open(input_video_file_path, 'rb')\n",
    "        video_mime = MIMEBase('application', 'octet-stream')\n",
    "        video_mime.set_payload((attachment).read())\n",
    "        encoders.encode_base64(video_mime)\n",
    "        video_mime.add_header('Content-Disposition', \"attachment; filename= %s\" % os.path.basename(input_video_file_path))\n",
    "        message.attach(video_mime)\n",
    "        \n",
    "        to_addrs = RECEIVER_ADDRESS.split(',')\n",
    "        # send email\n",
    "        session = smtplib.SMTP('smtp.gmail.com',587)\n",
    "        session.starttls()\n",
    "        session.login(EMAIL_ADDRESS, EMAIL_PASSWORD)\n",
    "        text = message.as_string()\n",
    "        session.sendmail(EMAIL_ADDRESS,to_addrs , text)\n",
    "        session.quit()\n",
    "\n",
    "        print(\"Email sent.\")\n",
    "        playsound(sound_file_path)\n",
    "        print(\"Alert sound played.\")\n",
    "    \n",
    "    elif predicted_class_name == 'Fire':\n",
    "        print(\"Sending email...Fire\")\n",
    "\n",
    "        # email credentials\n",
    "        EMAIL_ADDRESS = 'finalyrproject23@gmail.com'\n",
    "        EMAIL_PASSWORD = 'gubjkajaztkdmtty'\n",
    "        RECEIVER_ADDRESS = 'ridha.isha20@gmail.com,maiseridha@gmail.com'\n",
    "        \n",
    "        # message details\n",
    "        subject = 'Warning: Fire detected in video'\n",
    "        body = f'A video containing Fire has been detected. Confidence: {confidence_percent}%'\n",
    "\n",
    "        # create message\n",
    "        message = MIMEMultipart()\n",
    "        message['From'] = EMAIL_ADDRESS\n",
    "        message['To'] = RECEIVER_ADDRESS\n",
    "        message['Subject'] = subject\n",
    "\n",
    "        # add message body\n",
    "        message.attach(MIMEText(body, 'plain'))\n",
    "\n",
    "        # attach video file\n",
    "        attachment = open(input_video_file_path, 'rb')\n",
    "        video_mime = MIMEBase('application', 'octet-stream')\n",
    "        video_mime.set_payload((attachment).read())\n",
    "        encoders.encode_base64(video_mime)\n",
    "        video_mime.add_header('Content-Disposition', \"attachment; filename= %s\" % os.path.basename(input_video_file_path))\n",
    "        message.attach(video_mime)\n",
    "        \n",
    "        to_addrs = RECEIVER_ADDRESS.split(',')\n",
    "\n",
    "        \n",
    "        # send email\n",
    "        session = smtplib.SMTP('smtp.gmail.com',587)\n",
    "        session.starttls()\n",
    "        session.login(EMAIL_ADDRESS, EMAIL_PASSWORD)\n",
    "        text = message.as_string()\n",
    "        session.sendmail(EMAIL_ADDRESS,to_addrs , text)\n",
    "        session.quit()\n",
    "\n",
    "        print(\"Email sent.\")\n",
    "        playsound(sound_file_path)\n",
    "        print(\"Alert sound played.\")\n",
    "        \n",
    "    else:\n",
    "        print(f'Action Predicted: {predicted_class_name}\\nConfidence: {predicted_labels_probabilities[predicted_label]}')\n",
    "\n"
   ]
  },
  {
   "cell_type": "code",
   "execution_count": 17,
   "metadata": {},
   "outputs": [
    {
     "name": "stdout",
     "output_type": "stream",
     "text": [
      "1/1 [==============================] - 1s 886ms/step\n",
      "Sending email...\n"
     ]
    },
    {
     "name": "stderr",
     "output_type": "stream",
     "text": [
      "\n",
      "    Error 305 for command:\n",
      "        open \"C:\\Users\\Lenovo\\AppData\\Local\\Temp\\PSa4uhnjv9.mp3\"\n",
      "    Cannot specify extra characters after a string enclosed in quotation marks.\n",
      "\n",
      "    Error 305 for command:\n",
      "        close \"C:\\Users\\Lenovo\\AppData\\Local\\Temp\\PSa4uhnjv9.mp3\"\n",
      "    Cannot specify extra characters after a string enclosed in quotation marks.\n",
      "Failed to close the file: \"C:\\Users\\Lenovo\\AppData\\Local\\Temp\\PSa4uhnjv9.mp3\"\n"
     ]
    },
    {
     "name": "stdout",
     "output_type": "stream",
     "text": [
      "Email sent.\n"
     ]
    },
    {
     "ename": "PlaysoundException",
     "evalue": "\n    Error 305 for command:\n        open \"C:\\Users\\Lenovo\\AppData\\Local\\Temp\\PSa4uhnjv9.mp3\"\n    Cannot specify extra characters after a string enclosed in quotation marks.",
     "output_type": "error",
     "traceback": [
      "\u001b[1;31m---------------------------------------------------------------------------\u001b[0m",
      "\u001b[1;31mPlaysoundException\u001b[0m                        Traceback (most recent call last)",
      "\u001b[1;32m~\\AppData\\Local\\Temp\\ipykernel_12880\\4139226853.py\u001b[0m in \u001b[0;36m<module>\u001b[1;34m\u001b[0m\n\u001b[1;32m----> 1\u001b[1;33m \u001b[0mpredict_single_action\u001b[0m\u001b[1;33m(\u001b[0m\u001b[0minput_video_file_path\u001b[0m\u001b[1;33m,\u001b[0m \u001b[0mSEQUENCE_LENGTH\u001b[0m\u001b[1;33m)\u001b[0m\u001b[1;33m\u001b[0m\u001b[1;33m\u001b[0m\u001b[0m\n\u001b[0m",
      "\u001b[1;32m~\\AppData\\Local\\Temp\\ipykernel_12880\\880951110.py\u001b[0m in \u001b[0;36mpredict_single_action\u001b[1;34m(video_file_path, SEQUENCE_LENGTH)\u001b[0m\n\u001b[0;32m    110\u001b[0m \u001b[1;33m\u001b[0m\u001b[0m\n\u001b[0;32m    111\u001b[0m         \u001b[0mprint\u001b[0m\u001b[1;33m(\u001b[0m\u001b[1;34m\"Email sent.\"\u001b[0m\u001b[1;33m)\u001b[0m\u001b[1;33m\u001b[0m\u001b[1;33m\u001b[0m\u001b[0m\n\u001b[1;32m--> 112\u001b[1;33m         \u001b[0mplaysound\u001b[0m\u001b[1;33m(\u001b[0m\u001b[0msound_file_path\u001b[0m\u001b[1;33m)\u001b[0m\u001b[1;33m\u001b[0m\u001b[1;33m\u001b[0m\u001b[0m\n\u001b[0m\u001b[0;32m    113\u001b[0m         \u001b[0mprint\u001b[0m\u001b[1;33m(\u001b[0m\u001b[1;34m\"Alert sound played.\"\u001b[0m\u001b[1;33m)\u001b[0m\u001b[1;33m\u001b[0m\u001b[1;33m\u001b[0m\u001b[0m\n\u001b[0;32m    114\u001b[0m \u001b[1;33m\u001b[0m\u001b[0m\n",
      "\u001b[1;32md:\\New folder\\lib\\site-packages\\playsound.py\u001b[0m in \u001b[0;36m_playsoundWin\u001b[1;34m(sound, block)\u001b[0m\n\u001b[0;32m     42\u001b[0m         \u001b[0mclose\u001b[0m\u001b[1;33m(\u001b[0m\u001b[0mfd\u001b[0m\u001b[1;33m)\u001b[0m  \u001b[1;31m# mkstemp opens the file, but it must be closed before MCI can open it.\u001b[0m\u001b[1;33m\u001b[0m\u001b[1;33m\u001b[0m\u001b[0m\n\u001b[0;32m     43\u001b[0m         \u001b[1;32mtry\u001b[0m\u001b[1;33m:\u001b[0m\u001b[1;33m\u001b[0m\u001b[1;33m\u001b[0m\u001b[0m\n\u001b[1;32m---> 44\u001b[1;33m             \u001b[0m_playsoundWin\u001b[0m\u001b[1;33m(\u001b[0m\u001b[0mtempPath\u001b[0m\u001b[1;33m,\u001b[0m \u001b[0mblock\u001b[0m\u001b[1;33m)\u001b[0m\u001b[1;33m\u001b[0m\u001b[1;33m\u001b[0m\u001b[0m\n\u001b[0m\u001b[0;32m     45\u001b[0m         \u001b[1;32mfinally\u001b[0m\u001b[1;33m:\u001b[0m\u001b[1;33m\u001b[0m\u001b[1;33m\u001b[0m\u001b[0m\n\u001b[0;32m     46\u001b[0m             \u001b[0mremove\u001b[0m\u001b[1;33m(\u001b[0m\u001b[0mtempPath\u001b[0m\u001b[1;33m)\u001b[0m\u001b[1;33m\u001b[0m\u001b[1;33m\u001b[0m\u001b[0m\n",
      "\u001b[1;32md:\\New folder\\lib\\site-packages\\playsound.py\u001b[0m in \u001b[0;36m_playsoundWin\u001b[1;34m(sound, block)\u001b[0m\n\u001b[0;32m     70\u001b[0m     \u001b[1;32mtry\u001b[0m\u001b[1;33m:\u001b[0m\u001b[1;33m\u001b[0m\u001b[1;33m\u001b[0m\u001b[0m\n\u001b[0;32m     71\u001b[0m         \u001b[0mlogger\u001b[0m\u001b[1;33m.\u001b[0m\u001b[0mdebug\u001b[0m\u001b[1;33m(\u001b[0m\u001b[1;34m'Starting'\u001b[0m\u001b[1;33m)\u001b[0m\u001b[1;33m\u001b[0m\u001b[1;33m\u001b[0m\u001b[0m\n\u001b[1;32m---> 72\u001b[1;33m         \u001b[0mwinCommand\u001b[0m\u001b[1;33m(\u001b[0m\u001b[1;34mu'open {}'\u001b[0m\u001b[1;33m.\u001b[0m\u001b[0mformat\u001b[0m\u001b[1;33m(\u001b[0m\u001b[0msound\u001b[0m\u001b[1;33m)\u001b[0m\u001b[1;33m)\u001b[0m\u001b[1;33m\u001b[0m\u001b[1;33m\u001b[0m\u001b[0m\n\u001b[0m\u001b[0;32m     73\u001b[0m         \u001b[0mwinCommand\u001b[0m\u001b[1;33m(\u001b[0m\u001b[1;34mu'play {}{}'\u001b[0m\u001b[1;33m.\u001b[0m\u001b[0mformat\u001b[0m\u001b[1;33m(\u001b[0m\u001b[0msound\u001b[0m\u001b[1;33m,\u001b[0m \u001b[1;34m' wait'\u001b[0m \u001b[1;32mif\u001b[0m \u001b[0mblock\u001b[0m \u001b[1;32melse\u001b[0m \u001b[1;34m''\u001b[0m\u001b[1;33m)\u001b[0m\u001b[1;33m)\u001b[0m\u001b[1;33m\u001b[0m\u001b[1;33m\u001b[0m\u001b[0m\n\u001b[0;32m     74\u001b[0m         \u001b[0mlogger\u001b[0m\u001b[1;33m.\u001b[0m\u001b[0mdebug\u001b[0m\u001b[1;33m(\u001b[0m\u001b[1;34m'Returning'\u001b[0m\u001b[1;33m)\u001b[0m\u001b[1;33m\u001b[0m\u001b[1;33m\u001b[0m\u001b[0m\n",
      "\u001b[1;32md:\\New folder\\lib\\site-packages\\playsound.py\u001b[0m in \u001b[0;36mwinCommand\u001b[1;34m(*command)\u001b[0m\n\u001b[0;32m     62\u001b[0m                                 '\\n    ' + errorBuffer.raw.decode('utf-16').rstrip('\\0'))\n\u001b[0;32m     63\u001b[0m             \u001b[0mlogger\u001b[0m\u001b[1;33m.\u001b[0m\u001b[0merror\u001b[0m\u001b[1;33m(\u001b[0m\u001b[0mexceptionMessage\u001b[0m\u001b[1;33m)\u001b[0m\u001b[1;33m\u001b[0m\u001b[1;33m\u001b[0m\u001b[0m\n\u001b[1;32m---> 64\u001b[1;33m             \u001b[1;32mraise\u001b[0m \u001b[0mPlaysoundException\u001b[0m\u001b[1;33m(\u001b[0m\u001b[0mexceptionMessage\u001b[0m\u001b[1;33m)\u001b[0m\u001b[1;33m\u001b[0m\u001b[1;33m\u001b[0m\u001b[0m\n\u001b[0m\u001b[0;32m     65\u001b[0m         \u001b[1;32mreturn\u001b[0m \u001b[0mbuf\u001b[0m\u001b[1;33m.\u001b[0m\u001b[0mvalue\u001b[0m\u001b[1;33m\u001b[0m\u001b[1;33m\u001b[0m\u001b[0m\n\u001b[0;32m     66\u001b[0m \u001b[1;33m\u001b[0m\u001b[0m\n",
      "\u001b[1;31mPlaysoundException\u001b[0m: \n    Error 305 for command:\n        open \"C:\\Users\\Lenovo\\AppData\\Local\\Temp\\PSa4uhnjv9.mp3\"\n    Cannot specify extra characters after a string enclosed in quotation marks."
     ]
    }
   ],
   "source": [
    "predict_single_action(input_video_file_path, SEQUENCE_LENGTH)"
   ]
  },
  {
   "attachments": {},
   "cell_type": "markdown",
   "metadata": {},
   "source": [
    "### **Using saved videos**"
   ]
  },
  {
   "cell_type": "code",
   "execution_count": null,
   "metadata": {},
   "outputs": [
    {
     "name": "stdout",
     "output_type": "stream",
     "text": [
      "1/1 [==============================] - 0s 32ms/step\n",
      "Action Predicted: NonViolence\n",
      "Confidence: 0.9948554039001465\n"
     ]
    }
   ],
   "source": [
    "input_video_file_path=(r\"C:\\Users\\Lenovo\\OneDrive\\Desktop\\Final Code\\test_dataset\\NV2.mp4\")\n",
    "\n",
    "predict_single_action(input_video_file_path, SEQUENCE_LENGTH)"
   ]
  },
  {
   "cell_type": "code",
   "execution_count": null,
   "metadata": {},
   "outputs": [
    {
     "name": "stdout",
     "output_type": "stream",
     "text": [
      "1/1 [==============================] - 0s 40ms/step\n",
      "Sending email...Fire\n"
     ]
    }
   ],
   "source": [
    "input_video_file_path=r\"C:\\Users\\Lenovo\\OneDrive\\Desktop\\Final Code\\test_dataset\\Fire2.mp4\"\n",
    "\n",
    "predict_single_action(input_video_file_path, SEQUENCE_LENGTH)"
   ]
  },
  {
   "cell_type": "code",
   "execution_count": null,
   "metadata": {},
   "outputs": [
    {
     "name": "stdout",
     "output_type": "stream",
     "text": [
      "1/1 [==============================] - 0s 27ms/step\n",
      "Sending email...\n",
      "Email sent.\n",
      "Alert sound played.\n"
     ]
    }
   ],
   "source": [
    "input_video_file_path=r\"C:\\Users\\Lenovo\\OneDrive\\Desktop\\Final Code\\test_dataset\\V3.mp4\"\n",
    "\n",
    "predict_single_action(input_video_file_path, SEQUENCE_LENGTH)"
   ]
  }
 ],
 "metadata": {
  "kernelspec": {
   "display_name": "base",
   "language": "python",
   "name": "python3"
  },
  "language_info": {
   "codemirror_mode": {
    "name": "ipython",
    "version": 3
   },
   "file_extension": ".py",
   "mimetype": "text/x-python",
   "name": "python",
   "nbconvert_exporter": "python",
   "pygments_lexer": "ipython3",
   "version": "3.9.13"
  },
  "orig_nbformat": 4,
  "vscode": {
   "interpreter": {
    "hash": "147c3bc6fc00590e58d3e3ef7b83ae10ae7abb113a3e5d9de85582d13b73ba37"
   }
  }
 },
 "nbformat": 4,
 "nbformat_minor": 2
}
